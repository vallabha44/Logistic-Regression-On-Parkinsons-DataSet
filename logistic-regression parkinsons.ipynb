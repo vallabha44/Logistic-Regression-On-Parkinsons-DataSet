import pandas as pd
import numpy as np
import matplotlib.pyplot as plt
from sklearn.linear_model import LogisticRegression
from sklearn.model_selection import train_test_split
from sklearn.metrics import confusion_matrix
df = pd.read_csv('parkinsons.csv')
df.head()
x = df.iloc[:,1:-1]
y = df.iloc[:,-1]
x_train , x_test ,y_train ,y_test = train_test_split(x,y,test_size=0.2,random_state=9)



print('StandardScaler')
from sklearn.preprocessing import StandardScaler
sc = StandardScaler()
x_train = sc.fit_transform(x_train)
x_test = sc.fit_transform(x_test)
'''
print('MinMaxScaler')
from sklearn.preprocessing import MinMaxScaler
mn = MinMaxScaler()
x_train = mn.fit_transform(x_train)
x_test = mn.fit_transform(x_test)
'''

lr = LogisticRegression()
lr.fit(x_train,y_train)
y_pred = lr.predict(x_test)
from sklearn import metrics
print('Accuracy',metrics.accuracy_score(y_test,y_pred)*100)
print('Confusion matrix',metrics.confusion_matrix(y_test,y_pred))

plt.bar(y_test,y_pred)

plt.show()
