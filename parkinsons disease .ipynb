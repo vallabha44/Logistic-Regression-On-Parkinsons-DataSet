{
 "cells": [
  {
   "cell_type": "code",
   "execution_count": 33,
   "metadata": {},
   "outputs": [
    {
     "name": "stdout",
     "output_type": "stream",
     "text": [
      "score 0.9230769230769231\n",
      "Accuracy 92.3076923076923\n",
      "Confusion matrix [[ 8  3]\n",
      " [ 0 28]]\n"
     ]
    }
   ],
   "source": [
    "import pandas as pd\n",
    "import numpy as np\n",
    "from sklearn.linear_model import LogisticRegression\n",
    "from sklearn.model_selection import train_test_split\n",
    "from sklearn.metrics import confusion_matrix\n",
    "\n",
    "df = pd.read_csv('prankistons.csv')\n",
    "df.head()\n",
    "\n",
    "x = df.iloc[:,1:-1]\n",
    "y = df.iloc[:,-1]\n",
    "\n",
    "x_train , x_test ,y_train ,y_test = train_test_split(x,y,test_size=0.2,random_state=9)\n",
    "\n",
    "from sklearn.preprocessing import StandardScaler\n",
    "sr = StandardScaler()\n",
    "x_train = sr.fit_transform(x_train)\n",
    "x_test = sr.fit_transform(x_test)\n",
    "\n",
    "lr = LogisticRegression()\n",
    "lr.fit(x_train,y_train)\n",
    "\n",
    "y_pred = lr.predict(x_test)\n",
    "\n",
    "\n",
    "print('score',lr.score(x_test,y_test))\n",
    "print('Accuracy',metrics.accuracy_score(y_test,y_pred)*100)\n",
    "print('Confusion matrix',metrics.confusion_matrix(y_test,y_pred))"
   ]
  }
 ],
 "metadata": {
  "kernelspec": {
   "display_name": "Python 3",
   "language": "python",
   "name": "python3"
  },
  "language_info": {
   "codemirror_mode": {
    "name": "ipython",
    "version": 3
   },
   "file_extension": ".py",
   "mimetype": "text/x-python",
   "name": "python",
   "nbconvert_exporter": "python",
   "pygments_lexer": "ipython3",
   "version": "3.7.9"
  }
 },
 "nbformat": 4,
 "nbformat_minor": 4
}
